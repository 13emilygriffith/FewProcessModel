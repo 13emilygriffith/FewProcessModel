{
  "cells": [
    {
      "cell_type": "markdown",
      "metadata": {
        "id": "view-in-github",
        "colab_type": "text"
      },
      "source": [
        "<a href=\"https://colab.research.google.com/github/13emilygriffith/FewProcessModel/blob/main/Notebooks/for_Griffith.ipynb\" target=\"_parent\"><img src=\"https://colab.research.google.com/assets/colab-badge.svg\" alt=\"Open In Colab\"/></a>"
      ]
    },
    {
      "cell_type": "markdown",
      "metadata": {
        "id": "1ut_pYHbZN0_"
      },
      "source": [
        "# A two-process model for stellar abundances\n",
        "\n",
        "## Authors:\n",
        "- **Emily J. Griffith** (Colorado)\n",
        "- **David W. Hogg** (NYU) (MPIA) (Flatiron)\n",
        "\n",
        "## Major bugs / to-do items:\n",
        "- We need to produce some kind of error estimates on everything.\n",
        "- We should add a \"jitter\" term to the observational errors on the abundances.\n",
        "- Does moving to a robust loss function help or change the results in any way? Some least-squares optimizers have these built in.\n",
        "\n",
        "## Minor bugs:\n",
        "- Ought to compute and track the full objective function.\n",
        "- Haven't looked at dependences with regularization strengths.\n",
        "- Shouldn't be taking a `sqrt` in the residual (chi) code.\n",
        "\n",
        "## Comments\n",
        "- `jax vmap()` completely changed what was possible in this project. We must acknowledge & cite them in the paper."
      ]
    },
    {
      "cell_type": "code",
      "execution_count": null,
      "metadata": {
        "id": "dudptFAxA8HX"
      },
      "outputs": [],
      "source": [
        "!pip install jaxopt"
      ]
    },
    {
      "cell_type": "code",
      "execution_count": null,
      "metadata": {
        "id": "cC2f4glXFDVi"
      },
      "outputs": [],
      "source": [
        "!pip install wget"
      ]
    },
    {
      "cell_type": "code",
      "execution_count": null,
      "metadata": {
        "id": "izrrGAVgtq91"
      },
      "outputs": [],
      "source": [
        "pip install corner"
      ]
    },
    {
      "cell_type": "code",
      "execution_count": null,
      "metadata": {
        "id": "LJx9Reo4ZIc0"
      },
      "outputs": [],
      "source": [
        "import numpy as np\n",
        "import jax.numpy as jnp\n",
        "from jax.scipy.special import logsumexp\n",
        "import jaxopt\n",
        "import wget\n",
        "from matplotlib import pyplot as plt\n",
        "from matplotlib.colors import LogNorm\n",
        "import os.path\n",
        "from tqdm import tqdm\n",
        "from jax import vmap, grad\n",
        "import time\n",
        "import corner"
      ]
    },
    {
      "cell_type": "code",
      "execution_count": null,
      "metadata": {
        "id": "9J8hKKU4MDWj"
      },
      "outputs": [],
      "source": [
        "# Revise default plotting style\n",
        "style_revisions = {\n",
        "            'axes.linewidth': 1.5,\n",
        "            'xtick.top' : True, \n",
        "            'ytick.right' : True, \n",
        "            'xtick.direction' : 'in',\n",
        "            'ytick.direction' : 'in', \n",
        "            'xtick.major.size' : 11, \n",
        "            'ytick.major.size' : 11, \n",
        "            'xtick.minor.size' : 5.5, \n",
        "            'ytick.minor.size' : 5.5,\n",
        "            'font.size' : 16,\n",
        "            'figure.figsize' : [6, 6],\n",
        "            'lines.linewidth' : 2.5,\n",
        "        }\n",
        "plt.rcParams.update(style_revisions)"
      ]
    },
    {
      "cell_type": "code",
      "execution_count": null,
      "metadata": {
        "id": "MtqPZE-bdSum"
      },
      "outputs": [],
      "source": [
        "# Set constants\n",
        "ln10 = np.log(10.)"
      ]
    },
    {
      "cell_type": "code",
      "execution_count": null,
      "metadata": {
        "id": "7beq-jhEZSm7"
      },
      "outputs": [],
      "source": [
        "# Set hyper-parameters\n",
        "processes = np.array(['CC', 'Ia']) # process names\n",
        "K = len(processes) # number of processes!\n",
        "Lambda_a = 1.e12 # regularization strength on Mg for CC and on Fe for Ia.\n",
        "Lambda_b = 1.e12 # regularization strength on Mg for Ia"
      ]
    },
    {
      "cell_type": "code",
      "execution_count": null,
      "metadata": {
        "id": "mLMEvU-qCImw"
      },
      "outputs": [],
      "source": [
        "# Download files from Emily's website\n",
        "url = 'https://www.emilyjgriffith.com/s/'\n",
        "if(os.path.isfile('lnqs.npy')==False): wget.download(url+'lnqs.npy')\n",
        "if(os.path.isfile('lnAs.npy')==False): wget.download(url+'lnAs.npy')\n",
        "if(os.path.isfile('bins.npy')==False): wget.download(url+'bins.npy')\n",
        "if(os.path.isfile('alldata.npy')==False): wget.download(url+'alldata.npy')\n",
        "if(os.path.isfile('allivars.npy')==False): wget.download(url+'allivars.npy')"
      ]
    },
    {
      "cell_type": "code",
      "execution_count": null,
      "metadata": {
        "id": "C14zrTA5F5wP"
      },
      "outputs": [],
      "source": [
        "# Load numpy files\n",
        "# N - number of stars = 34410\n",
        "# M - number of elements = 16\n",
        "\n",
        "elements  = np.array(['Mg','O','Si','S','Ca','CN','Na','Al','K','Cr','Fe','Ni','V','Mn','Co','Ce'])\n",
        "metallicities = np.array(['-0.7', '-0.6', '-0.5', '-0.4', '-0.3', '-0.2', '-0.1', '0.0', '0.1', '0.2', '0.3', '0.4', ])\n",
        "\n",
        "# lnqs: shape(2, 12, 16), 0 is qcc, 1 is qIa, replaced negative values with 0.05\n",
        "w22_lnqs = np.load('lnqs.npy')\n",
        "a, b, c = w22_lnqs.shape\n",
        "while a < K:\n",
        "    w22_lnqs = np.concatenate(w22_lnqs, something) # THIS WILL FAIL RN\n",
        "    a, b, c = w22_lnqs.shape\n",
        "assert a == len(processes)\n",
        "assert b == len(metallicities)\n",
        "assert c == len(elements)\n",
        "\n",
        "# artificially raise the zeros above zero\n",
        "w22_lnqs = np.clip(w22_lnqs, -7., None)\n",
        "\n",
        "# lnAs: shape(2, 34410), 0 is Acc, 1 is AIa\n",
        "w22_lnAs = np.load('lnAs.npy')\n",
        "a, b = w22_lnAs.shape\n",
        "while a < K:\n",
        "    w22_lnqs = np.concatenate(w22_lnAs, something) # THIS WILL FAIL RN\n",
        "    a, b = w22_lnAs.shape\n",
        "assert a == len(processes)\n",
        "\n",
        "# bins: shape(34410) index of metallicity bin 0 = -0.7, 11 = 0.4 (spaced by 0.1 dex)\n",
        "bins = np.load('bins.npy').astype(int)\n",
        "\n",
        "# alldata: shape(34410, 16), bad data = 0\n",
        "alldata = np.load('alldata.npy')\n",
        "\n",
        "# allivars: shape(34410,16), bad data = 0\n",
        "allivars = np.load('allivars.npy')\n",
        "assert allivars.shape == alldata.shape"
      ]
    },
    {
      "cell_type": "code",
      "execution_count": null,
      "metadata": {
        "id": "a_yUNTD_WQQ9"
      },
      "outputs": [],
      "source": [
        "def all_stars_K_process_model(lnAs, lnqs, bins):\n",
        "    \"\"\"\n",
        "    ## inputs\n",
        "    - `lnAs`: shape `(K, N)` natural-logarithmic amplitudes\n",
        "    - `lnqs`: shape `(K, Nbin, M)` natural-logarithmic processes\n",
        "    - `bins`: shape `(N, )` metallicity bin integers\n",
        "\n",
        "    ## outputs\n",
        "    shape `(M, )` log_10 abundances\n",
        "\n",
        "    ## comments\n",
        "    - Note the `ln10`.\n",
        "    \"\"\"\n",
        "    return logsumexp(lnAs[:, :, None] + lnqs[:, bins, :], axis=0) / ln10"
      ]
    },
    {
      "cell_type": "code",
      "execution_count": null,
      "metadata": {
        "id": "wnG0TxNPnRH1"
      },
      "outputs": [],
      "source": [
        "def plot_xmg_resid(elem, alldata, synthdata, xmax=0.4, xmin=-0.7, ymax=0.2, \n",
        "                   ymin=-0.5, resid_lim=0.05):\n",
        "  \"\"\"\n",
        "  ## inputs\n",
        "  - `elem`: sting of element name, capitalized\n",
        "  - `alldata`: shape `(N, M)` log_10 abundance measurements\n",
        "  - `synthdata`: shape `(N, M)` log_10 synthesized abundances\n",
        "  - `xmax`: float plotting limit in [X/Mg] vs. [Mg/H] plots (default=0.4)\n",
        "  - `xmin`: float plotting limit in [X/Mg] vs. [Mg/H] plots (default=-0.7)\n",
        "  - `ymax`: float plotting limit in [X/Mg] vs. [Mg/H] plots (default=0.2)\n",
        "  - `ymin`: float plotting limit in [X/Mg] vs. [Mg/H] plots (default=-0.5)\n",
        "  - `resid_lim`: float plotting limit in Delta [X/H] vs. Delta [Mg/H] plots \n",
        "                  (default=0.05)\n",
        "\n",
        "  ## outputs\n",
        "  Plot with three pannels: \n",
        "    (1) [X/Mg] vs. [Mg/H] observed\n",
        "    (2) [X/Mg] vs. [Mg/H] fit\n",
        "    (3) Delta [X/H] vs. Delta [Mg/H] residuals\n",
        "  \"\"\"\n",
        "  plt.figure(figsize=(12,4))\n",
        "\n",
        "  if elem not in elements: \n",
        "    print('Element not valid')\n",
        "    return None\n",
        "  else: e_i = np.where(elements==elem)[0][0]\n",
        "\n",
        "  plt.subplot(1,3,1)\n",
        "  plt.hist2d(alldata[:,0], alldata[:,e_i]-alldata[:,0],cmap='magma', bins=100, \n",
        "          range=[[xmin,xmax],[ymin,ymax]], norm=LogNorm())\n",
        "  plt.xlabel('[Mg/H]')\n",
        "  plt.ylabel('['+elem+'/Mg]')\n",
        "  plt.title('Observed')\n",
        "\n",
        "  plt.subplot(1,3,2)\n",
        "  plt.hist2d(synthdata[:,0], synthdata[:,e_i]-synthdata[:,0],cmap='magma', \n",
        "             bins=100, range=[[xmin,xmax],[ymin,ymax]], norm=LogNorm())\n",
        "  plt.xlabel('[Mg/H]')\n",
        "  plt.ylabel('['+elem+'/Mg]')\n",
        "  plt.title('Simulated')\n",
        "\n",
        "  plt.subplot(1,3,3)\n",
        "  plt.hist2d(alldata[:,0]-synthdata[:,0],(alldata[:,e_i])-(synthdata[:,e_i]),\n",
        "             cmap='magma', bins=100, norm=LogNorm(),\n",
        "             range=[[-1*resid_lim,resid_lim],[-1*resid_lim,resid_lim]])\n",
        "  plt.xlabel('$\\Delta$ [Mg/H]')\n",
        "  plt.ylabel('$\\Delta$ ['+elem+'/H]')\n",
        "\n",
        "  plt.tight_layout()\n",
        "  plt.show()\n",
        "\n",
        "\n",
        "def plot_resid_corner(alldata, synthdata, elements, resid_lim=0.15):\n",
        "  \"\"\"\n",
        "  ## inputs\n",
        "  - `alldata`: shape `(N, M)` log_10 abundance measurements\n",
        "  - `synthdata`: shape `(N, M)` log_10 synthesized abundances\n",
        "  - `elements': shape `(M)` string element names\n",
        "  - `resid_lim`: float plotting limit in all 2D and 1D histograms\n",
        "                  (default=0.15)\n",
        "\n",
        "  ## outputs\n",
        "  Corner plot of all possible combinations of elements\n",
        "  \"\"\"\n",
        "  resid_data = np.array(alldata - synthdata)\n",
        "  figure = corner.corner(resid_data, labels=elements, \n",
        "                         quantiles=[0.16, 0.5, 0.84], show_titles=True, \n",
        "                         title_kwargs={\"fontsize\": 12}, quiet=True,  \n",
        "                         range=[(-1*resid_lim,resid_lim)]*len(elements))\n",
        "  \n",
        "def plot_star_abunds(star_idxs, alldata, allivars, synthdata, elements):\n",
        "  \"\"\"\n",
        "  ## inputs\n",
        "  - `star_idxs`: list of integer indexes of stars to plot (e.g. [0,1,2])\n",
        "  - `alldata`: shape `(N, M)` log_10 abundance measurements\n",
        "  - `allivars`: shape `(N, M)` inverse variances of observed abundances\n",
        "  - `synthdata`: shape `(N, M)` log_10 synthesized abundances\n",
        "  - `elements': shape `(M)` string element names\n",
        "\n",
        "  ## outputs\n",
        "  Plot of predicted and observed abundances with a row for each star\n",
        "  \"\"\"\n",
        "  n_stars = len(star_idxs)\n",
        "  err = np.sqrt(1/(allivars))\n",
        "  plt.figure(figsize=(12,2*n_stars))\n",
        "\n",
        "  for i in range(n_stars):\n",
        "    ax = plt.subplot(n_stars, 1, i+1)\n",
        "    plt.errorbar(range(len(elements)), alldata[star_idxs[i],:],\n",
        "                 yerr=err[star_idxs[i],:], fmt='ko-', \n",
        "                  lw=1.5, label='Obs')  \n",
        "    plt.plot(synthdata[star_idxs[i],:], 'ko--', markerfacecolor='None', lw=1.5,\n",
        "             label='Synth')\n",
        "    plt.xticks(range(len(elements)), elements)\n",
        "    plt.ylabel('[X/H]')\n",
        "    chi2 = np.sum(((alldata[star_idxs[i],:] - synthdata[star_idxs[i],:])**2) * \n",
        "                  allivars[star_idxs[i],:])\n",
        "    plt.text(0.03,0.75, ' star %1.0f \\n chi2= %2.3f' % (star_idxs[i], chi2), \n",
        "             transform=ax.transAxes, fontsize=10)\n",
        "    avg_y = np.mean(synthdata[star_idxs[i],:])\n",
        "    plt.ylim(avg_y-0.3, avg_y+0.3)\n",
        "    plt.legend(ncol=2, loc='upper right', fontsize=10)\n",
        "\n",
        "  plt.tight_layout()\n",
        "\n",
        "def plot_chi2(alldata, allivars, synthdata, elements):\n",
        "  \"\"\"\n",
        "  ## inputs\n",
        "  - `alldata`: shape `(N, M)` log_10 abundance measurements\n",
        "  - `allivars`: shape `(N, M)` inverse variances of observed abundances\n",
        "  - `synthdata`: shape `(N, M)` log_10 synthesized abundances\n",
        "  - `elements': shape `(M)` string element names\n",
        "\n",
        "  ## outputs\n",
        "  Plot with two panels (1) histograph of stellar chi^2 values and (2) plot of \n",
        "  chi^2 per element \n",
        "  \"\"\"\n",
        "  chi2_stars = np.sum(((alldata - synthdata)**2) * allivars, axis=1)\n",
        "  chi2_elems = np.sum(((alldata - synthdata)**2) * allivars, axis=0)\n",
        "\n",
        "  plt.figure(figsize=(8,8))\n",
        "\n",
        "  plt.subplot(2,1,1)\n",
        "  plt.hist(chi2_stars, bins=100, color='mediumslateblue', histtype='stepfilled')\n",
        "  plt.yscale('log')\n",
        "  plt.ylabel('N Stars')\n",
        "  plt.xlabel(r'$\\chi^2$ per star')\n",
        "\n",
        "  plt.subplot(2,1,2)\n",
        "  plt.plot(elements, chi2_elems, 'o--', color='mediumslateblue', lw=1.5)\n",
        "  plt.ylabel(r'$\\chi^2$ per elemnt')\n",
        "\n",
        "  plt.tight_layout()\n"
      ]
    },
    {
      "cell_type": "code",
      "execution_count": null,
      "metadata": {
        "id": "1G5R-MMpr0wW"
      },
      "outputs": [],
      "source": [
        "synthdata = all_stars_K_process_model(w22_lnAs, w22_lnqs, bins)\n",
        "\n",
        "plot_xmg_resid('Fe', alldata, synthdata, resid_lim=0.1)\n",
        "plot_resid_corner(alldata, synthdata, elements)\n",
        "plot_star_abunds([0,1,2,674,10274], alldata, allivars, synthdata, elements)\n",
        "plot_chi2(alldata, allivars, synthdata, elements)\n"
      ]
    },
    {
      "cell_type": "code",
      "execution_count": null,
      "metadata": {
        "id": "jTOy4PgEaDMi"
      },
      "outputs": [],
      "source": [
        "def one_star_K_process_model(lnAs, lnqs):\n",
        "    \"\"\"\n",
        "    ## inputs\n",
        "    - `lnAs`: shape `(K,)` natural-logarithmic amplitudes\n",
        "    - `lnqs`: shape `(K, M)` natural-logarithmic processes\n",
        "\n",
        "    ## outputs\n",
        "    shape `(M, )` log_10 abundances\n",
        "\n",
        "    ## comments\n",
        "    - Note the `ln10`.\n",
        "    \"\"\"\n",
        "    return logsumexp(lnAs[:, None] + lnqs, axis=0) / ln10\n",
        "\n",
        "def one_star_chi(lnAs, lnqs, data, ivars):\n",
        "    \"\"\"\n",
        "    ## inputs\n",
        "    - `lnAs`: shape `(2,)` natural-logarithmic amplitudes\n",
        "    - `lnqs`: shape `(2, M)` natural-logarithmic processes\n",
        "    - `data`: shape `(M, )` log_10 abundance measurements\n",
        "    - `ivars`: shape `(M, )` inverse variances on the data\n",
        "\n",
        "    ## outputs\n",
        "    chi for this one star\n",
        "    \"\"\"\n",
        "    return jnp.sqrt(ivars) * (data - one_star_K_process_model(lnAs, lnqs))\n",
        "\n",
        "def one_star_A_step(lnqs, data, ivars, init=None):\n",
        "    \"\"\"\n",
        "    ## inputs\n",
        "    - `lnqs`: shape `(2, M)` natural-logarithmic processes\n",
        "    - `data`: shape `(M, )` log_10 abundance measurements\n",
        "    - `ivars`: shape `(M, )` inverse variances on the data\n",
        "\n",
        "    ## outputs\n",
        "    shape `(2,)` best-fit natural-logarithmic amplitudes\n",
        "\n",
        "    ## bugs\n",
        "    - Not at all tested.\n",
        "    - Doesn't check the output of the optimizer AT ALL.\n",
        "    \"\"\"\n",
        "    solver = jaxopt.GaussNewton(residual_fun=one_star_chi)\n",
        "    if init is None:\n",
        "        lnAs_init = jnp.log(jnp.array([0.5, 0.5]))\n",
        "    else:\n",
        "        lnAs_init = init.copy()\n",
        "\n",
        "    chi2_init = np.sum(one_star_chi(lnAs_init, lnqs=lnqs, data=data, ivars=ivars) ** 2)\n",
        "    res = solver.run(lnAs_init, lnqs=lnqs, data=data, ivars=ivars)\n",
        "    chi2_res = np.sum(one_star_chi(res.params, lnqs=lnqs, data=data, ivars=ivars) ** 2)\n",
        "\n",
        "    return res.params, chi2_init - chi2_res\n",
        "\n",
        "def A_step(lnqs, alldata, allivars, bins, old_lnAs):\n",
        "    \"\"\"\n",
        "    ## inputs\n",
        "    - `lnqs`: shape `(2, Nbin, M)` natural-logarithmic processes\n",
        "    - `alldata`: shape `(N, M)` log_10 abundance measurements\n",
        "    - `allivars`: shape `(N, M)` inverse variances on alldata\n",
        "    - `bins`: shape `(N, )` metallicity bin integers\n",
        "    - `old_lnAs`: previous `lnAs`; used for initialization of the optimizer\n",
        "\n",
        "    ## outputs\n",
        "    shape `(2, N)` best-fit natural-logarithmic amplitudes\n",
        "\n",
        "    ## bugs\n",
        "    - Need to switch to a form of map that works well in jax??\n",
        "    \"\"\"\n",
        "    N, M = alldata.shape\n",
        "    foo, Nbin, bar = lnqs.shape\n",
        "    assert lnqs.shape == (2, Nbin, M)\n",
        "    assert allivars.shape == (N, M)\n",
        "    assert bins.shape == (N, )\n",
        "    assert old_lnAs.shape == (2, N)\n",
        "    return vmap(one_star_A_step, in_axes=(1, 0, 0, 1), out_axes=(1, 0))(lnqs[:, bins], alldata, allivars, old_lnAs)"
      ]
    },
    {
      "cell_type": "code",
      "execution_count": null,
      "metadata": {
        "id": "M_fm_QaM4z5R"
      },
      "outputs": [],
      "source": [
        "start = time.time()\n",
        "new_lnAs, delta_chi2s = A_step(w22_lnqs, alldata, allivars, bins, w22_lnAs)\n",
        "end = time.time()\n",
        "print(\"A-step timing:\", end - start)\n",
        "print(\"A-step delta chi-squared range:\", jnp.min(delta_chi2s), jnp.max(delta_chi2s))"
      ]
    },
    {
      "cell_type": "code",
      "execution_count": null,
      "metadata": {
        "id": "3vI2G7ADilwd"
      },
      "outputs": [],
      "source": [
        "def one_element_K_process_model(lnqs, lnAs, bins):\n",
        "    \"\"\"\n",
        "    ## inputs\n",
        "    - `lnqs`: shape `(K, Nbin)` natural-logarithmic process elements\n",
        "    - `lnAs`: shape `(K, N)` natural-logarithmic amplitudes\n",
        "    - `bins`: shape `(N, )` metallicity bin integers\n",
        "\n",
        "    ## outputs\n",
        "    shape `(N, )` log_10 abundances\n",
        "\n",
        "    ## comments\n",
        "    - Note the `ln10`.\n",
        "    \"\"\"\n",
        "    return logsumexp(lnqs[:, bins] + lnAs, axis=0) / ln10\n",
        "\n",
        "def q_step_regularization(lnqs):\n",
        "    \"\"\"\n",
        "    Build arrays that are used for the regularization of the q step.\n",
        "\n",
        "    ## inputs\n",
        "    - `lnqs`: shape `(2, Nbin, M)` current values of the lnqs.\n",
        "\n",
        "    ## outputs\n",
        "    `Lambdas, q0s` regularization amplitudes and mean values; same shape as `lnqs`.\n",
        "\n",
        "    ## bugs:\n",
        "    - Depends on many global variables and choices.\n",
        "    \"\"\"\n",
        "    Lambdas = np.zeros_like(lnqs)\n",
        "    q0s = np.zeros_like(lnqs) + 0.5 # default values\n",
        "\n",
        "    # First point: Strongly require that q_Mg = 1 for CC\n",
        "    elem = elements == \"Mg\"\n",
        "    proc = processes == \"CC\"\n",
        "    Lambdas[proc, :, elem] = Lambda_a\n",
        "    q0s[    proc, :, elem] = 1.0\n",
        "\n",
        "    # Second point: Strongly require that q_Fe = 1 for Ia\n",
        "    elem = elements == \"Fe\"\n",
        "    proc = processes == \"Ia\"\n",
        "    Lambdas[proc, :, elem] = Lambda_a\n",
        "    q0s[    proc, :, elem] = 0.5\n",
        "\n",
        "    # Third point: Weakly require that q_Mg = 0 for Ia\n",
        "    elem = elements == \"Mg\"\n",
        "    proc = processes == \"Ia\"\n",
        "    Lambdas[proc, :, elem] = Lambda_b\n",
        "    q0s[    proc, :, elem] = 0.0\n",
        "\n",
        "    return Lambdas, q0s\n",
        "\n",
        "def one_element_chi(lnqs, lnAs, data, ivars, bins, Lambdas, q0s):\n",
        "    \"\"\"\n",
        "    ## inputs\n",
        "    - `lnqs`: shape `(2, Nbin)` natural-logarithmic process vectors\n",
        "    - `lnAs`: shape `(2, N)` natural-logarithmic amplitudes\n",
        "    - `data`: shape `(N, )` log_10 abundance measurements\n",
        "    - `ivars`: shape `(N, )` inverse variances on the data\n",
        "    - `bins`: shape `(N, )` metallicity bin integers\n",
        "    - `Lambdas`: shape `(2, Nbin)` list of regularization amplitudes\n",
        "    - `q0s`: shape `(2, Nbin)` \n",
        "\n",
        "    ## outputs\n",
        "    chi for this one star (weighted residual)\n",
        "    \"\"\"\n",
        "    return jnp.concatenate([jnp.sqrt(ivars) * (data - one_element_K_process_model(lnqs, lnAs, bins)),\n",
        "                            jnp.ravel(jnp.sqrt(Lambdas) * (jnp.exp(lnqs) - q0s))])\n",
        "\n",
        "def one_element_q_step(lnAs, data, ivars, bins, Nbin, Lambdas, q0s, init=None):\n",
        "    \"\"\"\n",
        "    ## inputs\n",
        "    - `lnAs`: shape `(2, N)` natural-logarithmic amplitudes\n",
        "    - `data`: shape `(N, )` log_10 abundance measurements\n",
        "    - `ivars`: shape `(N, )` inverse variances on the data\n",
        "    - `bins`: shape `(N, )` metallicity bin integers \n",
        "\n",
        "    ## outputs\n",
        "    shape `(2, Nbin)` best-fit natural-logarithmic process elements\n",
        "\n",
        "    ## bugs\n",
        "    \"\"\"\n",
        "    solver = jaxopt.GaussNewton(residual_fun=one_element_chi)\n",
        "    if init is None:\n",
        "        lnqs_init = jnp.log(jnp.array([[0.5, ] * Nbin,[0.5, ] * Nbin])) \n",
        "    else:\n",
        "        lnqs_init = init.copy()\n",
        "\n",
        "    chi2_init = np.sum(one_element_chi(lnqs_init, lnAs=lnAs, data=data, ivars=ivars, \n",
        "                               bins=bins,Lambdas=Lambdas, q0s=q0s) ** 2)\n",
        "    res = solver.run(lnqs_init, lnAs=lnAs, data=data, ivars=ivars, bins=bins,\n",
        "                     Lambdas=Lambdas, q0s=q0s)\n",
        "    chi2_res = np.sum(one_element_chi(res.params, lnAs=lnAs, data=data, ivars=ivars, \n",
        "                               bins=bins,Lambdas=Lambdas, q0s=q0s) ** 2)\n",
        "\n",
        "    return res.params, chi2_init - chi2_res\n",
        "\n",
        "def q_step(lnAs, alldata, allivars, bins, Lambdas, q0s, old_lnqs):\n",
        "    \"\"\"\n",
        "    ## inputs\n",
        "    - `lnAs`: shape `(2, N)` natural-logarithmic amplitudes\n",
        "    - `alldata`: shape `(N, M)` log_10 abundance measurements\n",
        "    - `allivars`: shape `(N, M)` inverse variances on alldata\n",
        "    - `bins`: shape `(N, )` metallicity bin integers \n",
        "    - `Lambdas`: something\n",
        "    - `q0s`: something\n",
        "    - `old_lnqs`: shape `(2, Nbin, M)` initialization for optimizations\n",
        "\n",
        "    ## outputs\n",
        "    shape `(2, Nbin, M)` best-fit natural-logarithmic processes\n",
        "\n",
        "    ## bugs\n",
        "    - Should be a `vmap()` not a `for` loop. Maybe?\n",
        "    \"\"\"\n",
        "    N, M = alldata.shape\n",
        "    Nbin = np.max(bins) + 1\n",
        "    assert lnAs.shape == (2, N)\n",
        "    assert allivars.shape == (N, M)\n",
        "    assert bins.shape == (N, )\n",
        "    assert Lambdas.shape == (2, Nbin, M)\n",
        "    assert q0s.shape == (2, Nbin, M)\n",
        "    assert old_lnqs.shape == (2, Nbin, M)\n",
        "    lnqs1 = np.zeros((2, Nbin, M))\n",
        "    return vmap(one_element_q_step, in_axes=(None, 1, 1, None, None, 2, 2, 2),\n",
        "               out_axes=(2, 0))(lnAs, alldata, allivars, bins, Nbin, Lambdas, q0s, old_lnqs)"
      ]
    },
    {
      "cell_type": "code",
      "execution_count": null,
      "metadata": {
        "id": "X0sBLaQrjmy4"
      },
      "outputs": [],
      "source": [
        "start = time.time()\n",
        "Lambdas, q0s = q_step_regularization(w22_lnqs)\n",
        "new_lnqs, delta_chi2s = q_step(w22_lnAs, alldata, allivars, bins, Lambdas, q0s, w22_lnqs)\n",
        "end = time.time()\n",
        "print(\"q-step timing:\", end - start)\n",
        "print(\"q-step shapes\", w22_lnqs.shape, new_lnqs.shape)\n",
        "print(\"q-step delta-chi-squareds:\", delta_chi2s)"
      ]
    },
    {
      "cell_type": "code",
      "execution_count": null,
      "metadata": {
        "id": "4GrOqBiUxhEG"
      },
      "outputs": [],
      "source": [
        "new_qs = np.exp(new_lnqs)\n",
        "qs = np.exp(w22_lnqs)\n",
        "\n",
        "elems = elements\n",
        "MgH = [float(m) for m in metallicities]\n",
        "\n",
        "plt.figure(figsize=(10,10))\n",
        "for i in range(16):\n",
        "  plt.subplot(4,4,i+1)\n",
        "  new_qcc = new_qs[0,:,i]\n",
        "  new_qIa = new_qs[1,:,i]\n",
        "  qcc = qs[0,:,i]\n",
        "  qIa = qs[1,:,i]\n",
        "\n",
        "  plt.plot(MgH, qcc, 'b-', label='qcc W22')\n",
        "  plt.plot(MgH, qIa, 'r-', label='qIa W22')\n",
        "\n",
        "  plt.plot(MgH, new_qcc, 'c-', label='qcc new')\n",
        "  plt.plot(MgH, new_qIa, 'm-', label='qIa new')\n",
        "\n",
        "  plt.xlabel('[Mg/H]')\n",
        "  plt.ylabel('q '+elems[i])\n",
        "\n",
        "  if i==0:\n",
        "    plt.legend(ncol=1, fontsize=10)\n",
        "  #plt.ylim(-0.1,1.1)\n",
        "plt.tight_layout()"
      ]
    },
    {
      "cell_type": "code",
      "execution_count": null,
      "metadata": {
        "id": "M0KX2Ozryl8t"
      },
      "outputs": [],
      "source": [
        "synthdata1 = all_stars_K_process_model(new_lnAs, new_lnqs, bins)\n",
        "plt.figure(figsize=(12,4))\n",
        "\n",
        "plt.subplot(1,3,1)\n",
        "plt.hist2d(alldata[:,0], alldata[:,10]-alldata[:,0],cmap='magma', bins=100, \n",
        "         range=[[-0.7,0.4],[-0.5,0.2]], norm=LogNorm())\n",
        "plt.xlabel('[Mg/H]')\n",
        "plt.ylabel('[Fe/Mg]')\n",
        "plt.ylim(-0.5,0.2)\n",
        "plt.title('Observed')\n",
        "\n",
        "plt.subplot(1,3,2)\n",
        "plt.hist2d(synthdata1[:,0], synthdata1[:,10]-synthdata1[:,0],cmap='magma', bins=100, \n",
        "         range=[[-0.7,0.4],[-0.5,0.2]], norm=LogNorm())\n",
        "plt.xlabel('[Mg/H]')\n",
        "plt.ylabel('[Fe/Mg]')\n",
        "plt.ylim(-0.5,0.2)\n",
        "plt.title('Fit')\n",
        "\n",
        "plt.subplot(1,3,3)\n",
        "plt.hist2d(alldata[:,0]-synthdata1[:,0],(alldata[:,10])-(synthdata1[:,10]),\n",
        "           cmap='magma', bins=100, range=[[-0.05,0.05],[-0.05,0.05]], norm=LogNorm())\n",
        "plt.xlabel('[Mg/H] obs - fit')\n",
        "plt.ylabel('[Fe/H] obs - fit')\n",
        "\n",
        "plt.tight_layout()\n"
      ]
    },
    {
      "cell_type": "code",
      "execution_count": null,
      "metadata": {
        "id": "xEOUxMZ2YQ7W"
      },
      "outputs": [],
      "source": [
        "# Okay now do some iterations\n",
        "list_lnAs = []\n",
        "list_lnqs = []\n",
        "new_lnAs = w22_lnAs.copy()\n",
        "new_lnqs = w22_lnqs.copy() \n",
        "list_lnAs.append(new_lnAs)\n",
        "list_lnqs.append(new_lnqs)\n",
        "\n",
        "for i in range(33):\n",
        "    start = time.time()\n",
        "    new_lnAs, dc2s = A_step(new_lnqs, alldata, allivars, bins, new_lnAs)\n",
        "    print(\"A-step timing:\", i, time.time() - start)\n",
        "    print(\"A-step Chi2:\", i,  np.nanmin(dc2s), np.nanmax(dc2s))\n",
        "    print(\"A-step bad elements:\", i,  np.sum(np.isnan(new_lnAs)))\n",
        "    start = time.time()\n",
        "    Lambdas, q0s = q_step_regularization(new_lnqs)\n",
        "    new_lnqs, dc2s = q_step(new_lnAs, alldata, allivars, bins, Lambdas, q0s, new_lnqs)\n",
        "    print(\"q-step timing:\", i, time.time() - start)\n",
        "    print(\"q-step Chi2:\", i,  np.nanmin(dc2s), np.nanmax(dc2s))\n",
        "    print(\"q-step bad elements:\", i,  np.sum(np.isnan(new_lnqs)))\n",
        "    if i < 2 or np.isclose(np.log2(i), np.round(np.log2(i))):\n",
        "        print(\"appending\")\n",
        "        list_lnAs.append(new_lnAs)\n",
        "        list_lnqs.append(new_lnqs)"
      ]
    },
    {
      "cell_type": "code",
      "execution_count": null,
      "metadata": {
        "id": "3Rl-bMvcYuGn"
      },
      "outputs": [],
      "source": [
        "NUM_COLORS = len(list_lnqs) - 1\n",
        "cm = plt.get_cmap('jet')\n",
        "colors =[\"grey\"]\n",
        "for i in range(NUM_COLORS):\n",
        "    color = cm(1.*i/NUM_COLORS)\n",
        "    colors.append(color)"
      ]
    },
    {
      "cell_type": "code",
      "execution_count": null,
      "metadata": {
        "id": "HxUhTRLZdaQY"
      },
      "outputs": [],
      "source": [
        "# plot evolution of qcc\n",
        "plt.figure(figsize=(15,10))\n",
        "MgH = [float(m) for m in metallicities]\n",
        "for j in range(16):\n",
        "  plt.subplot(4,4,j+1)\n",
        "  for i, lnqs in enumerate(list_lnqs):\n",
        "    label = None\n",
        "    if j == 0 and i == 0:\n",
        "        label = \"W22\"\n",
        "    if j == 0 and i + 1 == len(list_lnqs):\n",
        "        label = \"final iteration\"\n",
        "    qs = np.exp(lnqs)\n",
        "    qcc = qs[0,:,j]\n",
        "    plt.plot(MgH, qcc, '-', color=colors[i], lw=1.5, label=label)\n",
        "    plt.xlabel('[Mg/H]')\n",
        "    plt.ylabel('q_cc '+elements[j])\n",
        "    plt.ylim(np.min(qcc)-0.101, np.max(qcc)+0.101)\n",
        "  if j == 0:\n",
        "      plt.legend()\n",
        "plt.tight_layout()"
      ]
    },
    {
      "cell_type": "code",
      "execution_count": null,
      "metadata": {
        "id": "gyrdSFnidbDB"
      },
      "outputs": [],
      "source": [
        "# plot evolution of qIa\n",
        "plt.figure(figsize=(15,10))\n",
        "MgH = [float(m) for m in metallicities]\n",
        "for j in range(16):\n",
        "  plt.subplot(4,4,j+1)\n",
        "  for i, lnqs in enumerate(list_lnqs):\n",
        "    qs = np.exp(lnqs)\n",
        "    qIa = qs[1,:,j]\n",
        "    plt.plot(MgH, qIa, '-', color=colors[i], lw=1.5)\n",
        "    plt.xlabel('[Mg/H]')\n",
        "    plt.ylabel('q_Ia '+elements[j])\n",
        "    plt.ylim(np.min(qIa)-0.101, np.max(qIa)+0.101)\n",
        "plt.tight_layout()"
      ]
    },
    {
      "cell_type": "code",
      "execution_count": null,
      "metadata": {
        "id": "w9yH8SFPdcmm"
      },
      "outputs": [],
      "source": [
        "synthdata1 = all_stars_K_process_model(new_lnAs, new_lnqs, bins)\n",
        "plt.figure(figsize=(12,4))\n",
        "\n",
        "plt.subplot(1,3,1)\n",
        "plt.hist2d(alldata[:,0], alldata[:,10]-alldata[:,0],cmap='magma', bins=100, \n",
        "         range=[[-0.7,0.4],[-0.5,0.2]], norm=LogNorm())\n",
        "plt.xlabel('[Mg/H]')\n",
        "plt.ylabel('[Fe/Mg]')\n",
        "plt.ylim(-0.5,0.2)\n",
        "plt.title('Observed')\n",
        "\n",
        "plt.subplot(1,3,2)\n",
        "plt.hist2d(synthdata1[:,0], synthdata1[:,10]-synthdata1[:,0],cmap='magma', bins=100, \n",
        "         range=[[-0.7,0.4],[-0.5,0.2]], norm=LogNorm())\n",
        "plt.xlabel('[Mg/H]')\n",
        "plt.ylabel('[Fe/Mg]')\n",
        "plt.ylim(-0.5,0.2)\n",
        "plt.title('Fit')\n",
        "\n",
        "plt.subplot(1,3,3)\n",
        "plt.hist2d(alldata[:,0]-synthdata1[:,0],(alldata[:,10]-synthdata1[:,10]),\n",
        "           cmap='magma', bins=100, range=[[-0.05,0.05],[-0.05,0.05]], norm=LogNorm())\n",
        "plt.xlabel('[Mg/H] obs - fit')\n",
        "plt.ylabel('[Fe/H] obs - fit')\n",
        "\n",
        "plt.tight_layout()"
      ]
    },
    {
      "cell_type": "code",
      "execution_count": null,
      "metadata": {
        "id": "eajA22BsdfL7"
      },
      "outputs": [],
      "source": [
        "# plot evolution of [X/H]_data - [X/H]_synth\n",
        "\n",
        "plt.figure(figsize=(15,10))\n",
        "sigma = 1/np.sqrt(allivars)\n",
        "\n",
        "\n",
        "for j in range(16):\n",
        "  plt.subplot(4,4,j+1)\n",
        "\n",
        "  mask = np.where(np.isfinite(sigma[:,j]))[0]\n",
        "  plt.text(-10,8E2, elements[j] + r' $\\bar{\\sigma}= $' + \n",
        "           str(np.round(sigma[:,j][mask].mean(), 4)))\n",
        "\n",
        "  for i, (lnqs, lnAs) in enumerate(zip(list_lnqs, list_lnAs)):\n",
        "    synthdata1 = all_stars_K_process_model(lnAs, lnqs, bins)\n",
        "    plt.hist((alldata[:,j]-synthdata1[:,j])*np.sqrt(allivars[:,j]), color=colors[i], lw=1, \n",
        "             range=[-10,10], bins=100, histtype='step', stacked=True, \n",
        "             fill=False)\n",
        "  plt.xlabel('(dat-mod)/$\\sigma$')\n",
        "  plt.ylabel('Counts')\n",
        "\n",
        "plt.tight_layout()"
      ]
    },
    {
      "cell_type": "markdown",
      "metadata": {
        "id": "HGewsCC8e5h1"
      },
      "source": [
        "The q vectors and A values can be used to derive the fractional CCSN contribution at a given metallicity\n",
        "\n",
        "$f_{\\rm CC}^X = \\dfrac{A_{\\rm CC} q_{\\rm CC}^x(z)}{A_{\\rm CC} q_{\\rm CC}^x(z) + A_{\\rm Ia} q_{\\rm Ia}^x(z)} = [1 + (A_{\\rm Ia}/A_{\\rm CC})(q_{\\rm Ia}^x/q_{\\rm CC}^x)]^{-1}$"
      ]
    },
    {
      "cell_type": "code",
      "execution_count": null,
      "metadata": {
        "id": "hGS-hp80diLs"
      },
      "outputs": [],
      "source": [
        "w22_AIaAcc_lowIa = np.array([0.055, 0.036, 0.051, 0.053, 0.058, 0.089, 0.128, \n",
        "                             0.189, 0.350, 0.548, 0.636, 0.632])\n",
        "w22_AIaAcc_highIa = np.array([0.710, 0.753, 0.734, 0.719, 0.766, 0.875, 0.960, \n",
        "                              1.000, 1.028, 1.042, 1.042, 1.018])"
      ]
    },
    {
      "cell_type": "code",
      "execution_count": null,
      "metadata": {
        "id": "dky6DShF6Y23"
      },
      "outputs": [],
      "source": [
        "np.shape(w22_lnqs)"
      ]
    },
    {
      "cell_type": "code",
      "execution_count": null,
      "metadata": {
        "id": "w91cPdPUkgjR"
      },
      "outputs": [],
      "source": [
        "f_metals = [float(m) for m in metallicities]\n",
        "\n",
        "plt.figure(figsize=(15,10))\n",
        "for i in range(len(elements)):\n",
        "  plt.subplot(4,4,i+1)\n",
        "  fccs = []\n",
        "  for j in range(len(metallicities)):\n",
        "    mask = np.where(bins==j)[0]\n",
        "    bin_lnAs = new_lnAs[:,mask]\n",
        "    bin_Acc = np.nanmedian(np.exp(bin_lnAs[0,:]))\n",
        "    bin_AIa = np.nanmedian(np.exp(bin_lnAs[1,:]))\n",
        "    bin_qcc = np.exp(new_lnqs[0,j,i])\n",
        "    bin_qIa = np.exp(new_lnqs[1,j,i])\n",
        "    fcc = (1 + ((bin_AIa/bin_Acc)*(bin_qIa/bin_qcc)))**-1\n",
        "    fccs.append(fcc)\n",
        "    if metallicities[j] == '0.0': print(elements[i], fcc)\n",
        "\n",
        "  w22_fcc_lowIa = (1 + ((w22_AIaAcc_lowIa)*(np.exp(w22_lnqs[1,:,i])/\n",
        "                                            np.exp(w22_lnqs[0,:,i]))))**-1\n",
        "  w22_fcc_highIa = (1 + ((w22_AIaAcc_highIa)*(np.exp(w22_lnqs[1,:,i])/\n",
        "                                            np.exp(w22_lnqs[0,:,i]))))**-1\n",
        "\n",
        "  plt.plot(f_metals, w22_fcc_lowIa, 'r-', lw=1, label='W22 lowIa')\n",
        "  plt.plot(f_metals, w22_fcc_highIa, 'b-', lw=1, label='W22 highIa')\n",
        "  plt.plot(f_metals, fccs, 'ko-', label='Final Itteration')\n",
        "  \n",
        "  #plt.title(elements[i])\n",
        "  plt.xlabel('[Mg/H]')\n",
        "  plt.ylabel('f_cc '+ elements[i])\n",
        "  plt.ylim(-0.05,1.05)\n",
        "  if i ==0: plt.legend(fontsize=10)\n",
        "plt.tight_layout()\n",
        "plt.show()"
      ]
    },
    {
      "cell_type": "code",
      "execution_count": null,
      "metadata": {
        "id": "k-pVjR_XUeZe"
      },
      "outputs": [],
      "source": [
        "def all_stars_fcc(lnAs, lnqs, bins):\n",
        "    \"\"\"\n",
        "    ## inputs\n",
        "    - `lnAs`: shape `(K, N)` natural-logarithmic amplitudes\n",
        "    - `lnqs`: shape `(K, Nbin, M)` natural-logarithmic processes\n",
        "    - `bins`: shape `(N, )` metallicity bin integers\n",
        "\n",
        "    ## outputs\n",
        "    shape `(M, )` fcc\n",
        "\n",
        "    \"\"\"\n",
        "    Accqcc = np.exp(lnAs[0,:,None])*np.exp(lnqs[0,bins,:])\n",
        "    AIaqIa = np.exp(lnAs[1,:,None])*np.exp(lnqs[1,bins,:])\n",
        "    return Accqcc / (Accqcc + AIaqIa)"
      ]
    },
    {
      "cell_type": "code",
      "execution_count": null,
      "metadata": {
        "id": "mm2QSlflUXhS"
      },
      "outputs": [],
      "source": [
        "f_metals = [float(m) for m in metallicities]\n",
        "\n",
        "plt.figure(figsize=(15,10))\n",
        "fccs = all_stars_fcc(new_lnAs, new_lnqs, bins)\n",
        "for i in range(len(elements)):\n",
        "  plt.subplot(4,4,i+1)\n",
        "\n",
        "  w22_fcc_lowIa = (1 + ((w22_AIaAcc_lowIa)*(np.exp(w22_lnqs[1,:,i])/\n",
        "                                            np.exp(w22_lnqs[0,:,i]))))**-1\n",
        "  w22_fcc_highIa = (1 + ((w22_AIaAcc_highIa)*(np.exp(w22_lnqs[1,:,i])/\n",
        "                                            np.exp(w22_lnqs[0,:,i]))))**-1\n",
        "\n",
        "  plt.plot(f_metals, w22_fcc_lowIa, 'r-', lw=1, label='W22 lowIa')\n",
        "  plt.plot(f_metals, w22_fcc_highIa, 'b-', lw=1, label='W22 highIa')\n",
        "  plt.hist2d(synthdata1[:,0], fccs[:,i], norm=LogNorm(), bins=100, range=[[-0.8,0.6],[-0.1,1.1]])\n",
        "  \n",
        "  #plt.title(elements[i])\n",
        "  plt.xlabel('[Mg/H]')\n",
        "  plt.ylabel('f_cc '+ elements[i])\n",
        "  plt.ylim(-0.05,1.05)\n",
        "  if i ==0: plt.legend(fontsize=10)\n",
        "plt.tight_layout()\n",
        "plt.show()"
      ]
    },
    {
      "cell_type": "code",
      "source": [
        "print(elements)"
      ],
      "metadata": {
        "id": "PoJtPphWsS1V"
      },
      "execution_count": null,
      "outputs": []
    },
    {
      "cell_type": "code",
      "execution_count": null,
      "metadata": {
        "id": "B98r13tghKI-"
      },
      "outputs": [],
      "source": [
        "plt.plot(np.exp(new_lnAs[0,:]), np.exp(new_lnAs[1,:])/np.exp(new_lnAs[0,:]), ',')\n",
        "plt.xlim(0,3)\n",
        "plt.ylim(-0.5,2)\n",
        "plt.xlabel('Acc')\n",
        "plt.ylabel('AIa/Acc')"
      ]
    },
    {
      "cell_type": "markdown",
      "metadata": {
        "id": "awJ-fZd9h0Af"
      },
      "source": [
        "Thoughts \n",
        "- In W22 and G22, we plot AIa/Acc vs Acc, which acts similarly to the Mg/H vs Fe/H plot where you can see the bimodality. In our work, the two populations are exactly separated because we use the populations and the median trends to sovle for the qs and As. When doing the data driven model, do we also preserve the bimodality?\n",
        "- Knowing that CCSN and SNIa dominate the production of most of these elements, fit the two process model and present the residuals. Then fix the process vectors and amplitudes and fit a third process to see if it can account for the remaining abundances?"
      ]
    }
  ],
  "metadata": {
    "accelerator": "GPU",
    "colab": {
      "machine_shape": "hm",
      "provenance": [],
      "include_colab_link": true
    },
    "gpuClass": "premium",
    "kernelspec": {
      "display_name": "Python 3",
      "name": "python3"
    },
    "language_info": {
      "name": "python"
    }
  },
  "nbformat": 4,
  "nbformat_minor": 0
}